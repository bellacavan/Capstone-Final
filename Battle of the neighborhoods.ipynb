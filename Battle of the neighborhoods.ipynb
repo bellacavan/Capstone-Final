{
    "cells": [
        {
            "cell_type": "markdown",
            "metadata": {},
            "source": "# Capstone Project (Final)"
        },
        {
            "cell_type": "markdown",
            "metadata": {
                "collapsed": true
            },
            "source": "## Business Problem"
        },
        {
            "cell_type": "markdown",
            "metadata": {},
            "source": "### Background"
        },
        {
            "cell_type": "markdown",
            "metadata": {},
            "source": "Paris is the capital city of France. There are currently 20 arrondissments (or districts) in Paris. In each District of Paris, there is a town hall (Mairie) and a mayor (Maire), as well as elected officials, a council, a politician, and so on. The Arrondissements of Paris are not to be confused with the Parisian Quartiers (Paris Neighborhoods). Parisian Quartiers, like Belleville, Saint-Germain-des-Pr\u00e8s, and many more, are historic neighborhoods while the Arrondissements of Paris exist only since the 18 century. One Arrondissement usually includes many Paris Neighborhoods within its boundaries. The 1st Arrondissement of Paris is in the center of the city, then the other Paris Arrondissements are located forming a spiral turning clockwise, to finish in the 20th Arrondissement in the east. [Accornig to statistics](https://www.condorferries.co.uk/france-tourism-statistics) over 40 million people visit Paris each year. I want to know whichof the 20 arondissments is the safest."
        },
        {
            "cell_type": "markdown",
            "metadata": {},
            "source": "### The Problem "
        },
        {
            "cell_type": "markdown",
            "metadata": {},
            "source": "The problem with this subject is that most people that look up which one is the safest go to tourists or influencer websites that give their *personal* opinion/experience which is subjective. I want concrete proof using reports from the goverment of France on which arrondissment has the least amount of crime, so that tourists can clearly look it up and see."
        },
        {
            "cell_type": "markdown",
            "metadata": {},
            "source": " "
        },
        {
            "cell_type": "markdown",
            "metadata": {},
            "source": "## The Data"
        },
        {
            "cell_type": "markdown",
            "metadata": {},
            "source": "For this project we need the following data :"
        },
        {
            "cell_type": "markdown",
            "metadata": {},
            "source": "Parisian Crime Statistics provided by Numbeo as well as statistics from the government of france.\n\nNumbeo: https://www.numbeo.com/crime/in/Paris\n\nBriefly, and not for the clustering i will also use the Wikepedia page for crime in Paris to not count for "
        },
        {
            "cell_type": "code",
            "execution_count": null,
            "metadata": {},
            "outputs": [],
            "source": ""
        }
    ],
    "metadata": {
        "kernelspec": {
            "display_name": "Python 3.6",
            "language": "python",
            "name": "python3"
        },
        "language_info": {
            "codemirror_mode": {
                "name": "ipython",
                "version": 3
            },
            "file_extension": ".py",
            "mimetype": "text/x-python",
            "name": "python",
            "nbconvert_exporter": "python",
            "pygments_lexer": "ipython3",
            "version": "3.6.9"
        }
    },
    "nbformat": 4,
    "nbformat_minor": 1
}